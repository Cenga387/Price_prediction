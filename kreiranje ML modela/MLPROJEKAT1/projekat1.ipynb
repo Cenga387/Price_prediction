{
 "cells": [
  {
   "cell_type": "code",
   "execution_count": 1,
   "metadata": {},
   "outputs": [],
   "source": [
    "import pandas as pd\n",
    "import seaborn as sns\n",
    "import matplotlib.pyplot as plt\n",
    "from sklearn.pipeline import Pipeline\n",
    "from sklearn.preprocessing import StandardScaler\n",
    "from sklearn.ensemble import RandomForestRegressor\n",
    "from sklearn.model_selection import GridSearchCV, train_test_split\n",
    "import numpy as np\n",
    "from sklearn.svm import SVR"
   ]
  },
  {
   "cell_type": "code",
   "execution_count": 2,
   "metadata": {},
   "outputs": [
    {
     "name": "stderr",
     "output_type": "stream",
     "text": [
      "C:\\Users\\kapid\\AppData\\Local\\Temp\\ipykernel_20792\\3059042137.py:1: DtypeWarning: Columns (8,66,67,68,69,70,71,72,73,74,75,76,77,78,79,80,81,82,83,84,85,86,87,88,89,90,91,92,93,94,95,96,97,98,99,100,101,102,103,104,105,106,107,108,109,110,111,112,113,114,115,116,117,118,120,121,122,123,124,125,126,127,128,129,130,131,132,133,134,135,136,137,138,139,140,141,142,143,144,145,146,147,148,149,150,151,152,153,154,155,156,157,158,159,160,161,162,163,164,165,166,167,168,169,170,171,172,184,186) have mixed types. Specify dtype option on import or set low_memory=False.\n",
      "  df = pd.read_csv(\"vehicles.csv\")\n"
     ]
    }
   ],
   "source": [
    "df = pd.read_csv(\"vehicles.csv\")"
   ]
  },
  {
   "cell_type": "code",
   "execution_count": 3,
   "metadata": {},
   "outputs": [
    {
     "data": {
      "text/plain": [
       "(236188, 189)"
      ]
     },
     "execution_count": 3,
     "metadata": {},
     "output_type": "execute_result"
    }
   ],
   "source": [
    "df.shape"
   ]
  },
  {
   "cell_type": "code",
   "execution_count": 4,
   "metadata": {},
   "outputs": [],
   "source": [
    "za_dropanje = df.loc[:,\"priceHistory[0].price\":\"priceHistory[53].timestamp\"].columns"
   ]
  },
  {
   "cell_type": "code",
   "execution_count": 5,
   "metadata": {},
   "outputs": [],
   "source": [
    "df.drop(za_dropanje, axis=1, inplace=True)"
   ]
  },
  {
   "cell_type": "code",
   "execution_count": 6,
   "metadata": {},
   "outputs": [
    {
     "data": {
      "text/plain": [
       "(236188, 27)"
      ]
     },
     "execution_count": 6,
     "metadata": {},
     "output_type": "execute_result"
    }
   ],
   "source": [
    "df.shape"
   ]
  },
  {
   "cell_type": "code",
   "execution_count": 7,
   "metadata": {},
   "outputs": [
    {
     "data": {
      "text/plain": [
       "_id                      0\n",
       "createdAt                0\n",
       "displacement             4\n",
       "doors                   17\n",
       "fuel                     3\n",
       "kilowatts            13794\n",
       "location                 0\n",
       "manufacturer             0\n",
       "mileage                  2\n",
       "model                    0\n",
       "price                    0\n",
       "title                    0\n",
       "updatedAt                0\n",
       "year                    17\n",
       "color                80241\n",
       "cruiseControl       121561\n",
       "drivetrain           80476\n",
       "emissionStandard    110667\n",
       "parkingSensors      130130\n",
       "rimSize              95241\n",
       "transmission         52625\n",
       "type                 95259\n",
       "externalId               0\n",
       "id                       0\n",
       "airCondition        164087\n",
       "navigation          154953\n",
       "registration        127497\n",
       "dtype: int64"
      ]
     },
     "execution_count": 7,
     "metadata": {},
     "output_type": "execute_result"
    }
   ],
   "source": [
    "df.isnull().sum()"
   ]
  },
  {
   "cell_type": "code",
   "execution_count": 8,
   "metadata": {},
   "outputs": [],
   "source": [
    "df.dropna(subset=[\"displacement\",\"doors\",\"fuel\",\"kilowatts\",\"mileage\",\"year\",\"transmission\"], inplace=True)"
   ]
  },
  {
   "cell_type": "code",
   "execution_count": 9,
   "metadata": {},
   "outputs": [],
   "source": [
    "df.drop([\"id\", \"externalId\", \"parkingSensors\", \"_id\", \"createdAt\"], axis=1, inplace=True)"
   ]
  },
  {
   "cell_type": "code",
   "execution_count": 10,
   "metadata": {},
   "outputs": [
    {
     "data": {
      "text/plain": [
       "displacement             0\n",
       "doors                    0\n",
       "fuel                     0\n",
       "kilowatts                0\n",
       "location                 0\n",
       "manufacturer             0\n",
       "mileage                  0\n",
       "model                    0\n",
       "price                    0\n",
       "title                    0\n",
       "updatedAt                0\n",
       "year                     0\n",
       "color                42796\n",
       "cruiseControl        76453\n",
       "drivetrain           40996\n",
       "emissionStandard     66485\n",
       "rimSize              54911\n",
       "transmission             0\n",
       "type                 50912\n",
       "airCondition        117598\n",
       "navigation          104260\n",
       "registration         87657\n",
       "dtype: int64"
      ]
     },
     "execution_count": 10,
     "metadata": {},
     "output_type": "execute_result"
    }
   ],
   "source": [
    "df.isnull().sum()"
   ]
  },
  {
   "cell_type": "code",
   "execution_count": 11,
   "metadata": {},
   "outputs": [],
   "source": [
    "df[\"mileage\"] = df[\"mileage\"].astype(float)"
   ]
  },
  {
   "cell_type": "code",
   "execution_count": 12,
   "metadata": {},
   "outputs": [
    {
     "name": "stdout",
     "output_type": "stream",
     "text": [
      "<class 'pandas.core.frame.DataFrame'>\n",
      "Index: 175090 entries, 0 to 236187\n",
      "Data columns (total 22 columns):\n",
      " #   Column            Non-Null Count   Dtype  \n",
      "---  ------            --------------   -----  \n",
      " 0   displacement      175090 non-null  float64\n",
      " 1   doors             175090 non-null  object \n",
      " 2   fuel              175090 non-null  object \n",
      " 3   kilowatts         175090 non-null  float64\n",
      " 4   location          175090 non-null  object \n",
      " 5   manufacturer      175090 non-null  object \n",
      " 6   mileage           175090 non-null  float64\n",
      " 7   model             175090 non-null  object \n",
      " 8   price             175090 non-null  int64  \n",
      " 9   title             175090 non-null  object \n",
      " 10  updatedAt         175090 non-null  object \n",
      " 11  year              175090 non-null  float64\n",
      " 12  color             132294 non-null  object \n",
      " 13  cruiseControl     98637 non-null   object \n",
      " 14  drivetrain        134094 non-null  object \n",
      " 15  emissionStandard  108605 non-null  object \n",
      " 16  rimSize           120179 non-null  float64\n",
      " 17  transmission      175090 non-null  object \n",
      " 18  type              124178 non-null  object \n",
      " 19  airCondition      57492 non-null   object \n",
      " 20  navigation        70830 non-null   object \n",
      " 21  registration      87433 non-null   object \n",
      "dtypes: float64(5), int64(1), object(16)\n",
      "memory usage: 30.7+ MB\n"
     ]
    }
   ],
   "source": [
    "df.info()"
   ]
  },
  {
   "cell_type": "code",
   "execution_count": 13,
   "metadata": {},
   "outputs": [
    {
     "data": {
      "text/html": [
       "<div>\n",
       "<style scoped>\n",
       "    .dataframe tbody tr th:only-of-type {\n",
       "        vertical-align: middle;\n",
       "    }\n",
       "\n",
       "    .dataframe tbody tr th {\n",
       "        vertical-align: top;\n",
       "    }\n",
       "\n",
       "    .dataframe thead th {\n",
       "        text-align: right;\n",
       "    }\n",
       "</style>\n",
       "<table border=\"1\" class=\"dataframe\">\n",
       "  <thead>\n",
       "    <tr style=\"text-align: right;\">\n",
       "      <th></th>\n",
       "      <th>displacement</th>\n",
       "      <th>kilowatts</th>\n",
       "      <th>mileage</th>\n",
       "      <th>price</th>\n",
       "      <th>year</th>\n",
       "      <th>rimSize</th>\n",
       "    </tr>\n",
       "  </thead>\n",
       "  <tbody>\n",
       "    <tr>\n",
       "      <th>count</th>\n",
       "      <td>175090.00</td>\n",
       "      <td>175090.00</td>\n",
       "      <td>1.750900e+05</td>\n",
       "      <td>175090.00</td>\n",
       "      <td>175090.00</td>\n",
       "      <td>120179.00</td>\n",
       "    </tr>\n",
       "    <tr>\n",
       "      <th>mean</th>\n",
       "      <td>1.90</td>\n",
       "      <td>98.01</td>\n",
       "      <td>6.345943e+28</td>\n",
       "      <td>19519.99</td>\n",
       "      <td>2009.52</td>\n",
       "      <td>16.53</td>\n",
       "    </tr>\n",
       "    <tr>\n",
       "      <th>std</th>\n",
       "      <td>0.51</td>\n",
       "      <td>41.52</td>\n",
       "      <td>2.655381e+31</td>\n",
       "      <td>32626.29</td>\n",
       "      <td>6.61</td>\n",
       "      <td>1.49</td>\n",
       "    </tr>\n",
       "    <tr>\n",
       "      <th>min</th>\n",
       "      <td>0.00</td>\n",
       "      <td>0.00</td>\n",
       "      <td>0.000000e+00</td>\n",
       "      <td>1.00</td>\n",
       "      <td>1950.00</td>\n",
       "      <td>13.00</td>\n",
       "    </tr>\n",
       "    <tr>\n",
       "      <th>25%</th>\n",
       "      <td>1.60</td>\n",
       "      <td>77.00</td>\n",
       "      <td>1.800000e+05</td>\n",
       "      <td>7300.00</td>\n",
       "      <td>2005.00</td>\n",
       "      <td>16.00</td>\n",
       "    </tr>\n",
       "    <tr>\n",
       "      <th>50%</th>\n",
       "      <td>1.90</td>\n",
       "      <td>88.00</td>\n",
       "      <td>2.350000e+05</td>\n",
       "      <td>13399.00</td>\n",
       "      <td>2010.00</td>\n",
       "      <td>16.00</td>\n",
       "    </tr>\n",
       "    <tr>\n",
       "      <th>75%</th>\n",
       "      <td>2.00</td>\n",
       "      <td>110.00</td>\n",
       "      <td>2.800000e+05</td>\n",
       "      <td>23199.00</td>\n",
       "      <td>2014.00</td>\n",
       "      <td>17.00</td>\n",
       "    </tr>\n",
       "    <tr>\n",
       "      <th>max</th>\n",
       "      <td>7.50</td>\n",
       "      <td>3500.00</td>\n",
       "      <td>1.111111e+34</td>\n",
       "      <td>8128655.00</td>\n",
       "      <td>2024.00</td>\n",
       "      <td>23.00</td>\n",
       "    </tr>\n",
       "  </tbody>\n",
       "</table>\n",
       "</div>"
      ],
      "text/plain": [
       "       displacement  kilowatts       mileage       price       year    rimSize\n",
       "count     175090.00  175090.00  1.750900e+05   175090.00  175090.00  120179.00\n",
       "mean           1.90      98.01  6.345943e+28    19519.99    2009.52      16.53\n",
       "std            0.51      41.52  2.655381e+31    32626.29       6.61       1.49\n",
       "min            0.00       0.00  0.000000e+00        1.00    1950.00      13.00\n",
       "25%            1.60      77.00  1.800000e+05     7300.00    2005.00      16.00\n",
       "50%            1.90      88.00  2.350000e+05    13399.00    2010.00      16.00\n",
       "75%            2.00     110.00  2.800000e+05    23199.00    2014.00      17.00\n",
       "max            7.50    3500.00  1.111111e+34  8128655.00    2024.00      23.00"
      ]
     },
     "execution_count": 13,
     "metadata": {},
     "output_type": "execute_result"
    }
   ],
   "source": [
    "df.describe().round(2)"
   ]
  },
  {
   "cell_type": "code",
   "execution_count": 14,
   "metadata": {},
   "outputs": [],
   "source": [
    "indeksi_drop_kilometraza = df.index[(df['mileage'] > 1_000_000) | (df['mileage'] < 0)].to_list()\n",
    "df.drop(indeksi_drop_kilometraza, inplace=True)"
   ]
  },
  {
   "cell_type": "code",
   "execution_count": 15,
   "metadata": {},
   "outputs": [],
   "source": [
    "indeksi_drop_cijena = df.index[(df['price'] > 8_000_000) | (df['price'] < 500)].to_list()\n",
    "df.drop(indeksi_drop_cijena, inplace=True)"
   ]
  },
  {
   "cell_type": "code",
   "execution_count": 16,
   "metadata": {},
   "outputs": [],
   "source": [
    "most_common_rim_size = df[\"rimSize\"].mode()[0]\n",
    "df[\"rimSize\"] = df[\"rimSize\"].fillna(most_common_rim_size)\n",
    "\n",
    "most_common_emission_standard = df[\"emissionStandard\"].mode()[0]\n",
    "df[\"emissionStandard\"] = df[\"emissionStandard\"].fillna(most_common_emission_standard)"
   ]
  },
  {
   "cell_type": "code",
   "execution_count": 17,
   "metadata": {},
   "outputs": [],
   "source": [
    "df[\"airCondition\"]= df[\"airCondition\"].fillna(\"FALSE\")\n",
    "df[\"navigation\"] = df[\"navigation\"].fillna(\"FALSE\")\n",
    "df[\"registration\"] = df[\"registration\"].fillna(\"FALSE\")\n",
    "df[\"cruiseControl\"] = df[\"cruiseControl\"].fillna(\"FALSE\")\n",
    "df[\"color\"] = df[\"color\"].bfill()\n",
    "df[\"drivetrain\"] = df[\"drivetrain\"].bfill()\n",
    "df[\"emissionStandard\"] = df[\"emissionStandard\"].bfill()\n",
    "df[\"type\"] = df[\"type\"].fillna(\"unavailable\")"
   ]
  },
  {
   "cell_type": "code",
   "execution_count": 42,
   "metadata": {},
   "outputs": [
    {
     "data": {
      "text/plain": [
       "(50577, 22)"
      ]
     },
     "execution_count": 42,
     "metadata": {},
     "output_type": "execute_result"
    }
   ],
   "source": [
    "df_volkswagen = df[df[\"manufacturer\"]==\"Volkswagen\"]\n",
    "df_volkswagen.shape"
   ]
  },
  {
   "cell_type": "code",
   "execution_count": 43,
   "metadata": {},
   "outputs": [
    {
     "data": {
      "text/plain": [
       "(20497, 22)"
      ]
     },
     "execution_count": 43,
     "metadata": {},
     "output_type": "execute_result"
    }
   ],
   "source": [
    "df_audi = df[df[\"manufacturer\"]==\"Audi\"]\n",
    "df_audi.shape"
   ]
  },
  {
   "cell_type": "code",
   "execution_count": 44,
   "metadata": {},
   "outputs": [
    {
     "data": {
      "text/plain": [
       "(13360, 22)"
      ]
     },
     "execution_count": 44,
     "metadata": {},
     "output_type": "execute_result"
    }
   ],
   "source": [
    "df_mercedes_benz = df[df[\"manufacturer\"]==\"Mercedes-Benz\"]\n",
    "df_mercedes_benz.shape"
   ]
  },
  {
   "cell_type": "code",
   "execution_count": 18,
   "metadata": {},
   "outputs": [],
   "source": [
    "df_skoda = df[df[\"manufacturer\"]==\"Škoda\"]"
   ]
  },
  {
   "cell_type": "code",
   "execution_count": 45,
   "metadata": {},
   "outputs": [
    {
     "data": {
      "text/html": [
       "<div>\n",
       "<style scoped>\n",
       "    .dataframe tbody tr th:only-of-type {\n",
       "        vertical-align: middle;\n",
       "    }\n",
       "\n",
       "    .dataframe tbody tr th {\n",
       "        vertical-align: top;\n",
       "    }\n",
       "\n",
       "    .dataframe thead th {\n",
       "        text-align: right;\n",
       "    }\n",
       "</style>\n",
       "<table border=\"1\" class=\"dataframe\">\n",
       "  <thead>\n",
       "    <tr style=\"text-align: right;\">\n",
       "      <th></th>\n",
       "      <th>displacement</th>\n",
       "      <th>doors</th>\n",
       "      <th>fuel</th>\n",
       "      <th>kilowatts</th>\n",
       "      <th>location</th>\n",
       "      <th>manufacturer</th>\n",
       "      <th>mileage</th>\n",
       "      <th>model</th>\n",
       "      <th>price</th>\n",
       "      <th>title</th>\n",
       "      <th>...</th>\n",
       "      <th>color</th>\n",
       "      <th>cruiseControl</th>\n",
       "      <th>drivetrain</th>\n",
       "      <th>emissionStandard</th>\n",
       "      <th>rimSize</th>\n",
       "      <th>transmission</th>\n",
       "      <th>type</th>\n",
       "      <th>airCondition</th>\n",
       "      <th>navigation</th>\n",
       "      <th>registration</th>\n",
       "    </tr>\n",
       "  </thead>\n",
       "  <tbody>\n",
       "    <tr>\n",
       "      <th>171</th>\n",
       "      <td>1.8</td>\n",
       "      <td>4/5</td>\n",
       "      <td>Benzin</td>\n",
       "      <td>110.0</td>\n",
       "      <td>Ključ</td>\n",
       "      <td>Audi</td>\n",
       "      <td>400.0</td>\n",
       "      <td>A4</td>\n",
       "      <td>3700</td>\n",
       "      <td>Audi A4 Reg 12. mj sa Policom</td>\n",
       "      <td>...</td>\n",
       "      <td>Siva</td>\n",
       "      <td>True</td>\n",
       "      <td>Prednji</td>\n",
       "      <td>Euro 4</td>\n",
       "      <td>15.0</td>\n",
       "      <td>Manuelni</td>\n",
       "      <td>Karavan</td>\n",
       "      <td>True</td>\n",
       "      <td>FALSE</td>\n",
       "      <td>True</td>\n",
       "    </tr>\n",
       "    <tr>\n",
       "      <th>172</th>\n",
       "      <td>1.6</td>\n",
       "      <td>2/3</td>\n",
       "      <td>Plin</td>\n",
       "      <td>74.0</td>\n",
       "      <td>Sarajevo - Centar</td>\n",
       "      <td>Audi</td>\n",
       "      <td>270000.0</td>\n",
       "      <td>A3</td>\n",
       "      <td>1950</td>\n",
       "      <td>Audi A3 1.6 sekvnet plin</td>\n",
       "      <td>...</td>\n",
       "      <td>Siva</td>\n",
       "      <td>FALSE</td>\n",
       "      <td>Prednji</td>\n",
       "      <td>Euro 5</td>\n",
       "      <td>15.0</td>\n",
       "      <td>Manuelni</td>\n",
       "      <td>unavailable</td>\n",
       "      <td>FALSE</td>\n",
       "      <td>FALSE</td>\n",
       "      <td>FALSE</td>\n",
       "    </tr>\n",
       "    <tr>\n",
       "      <th>173</th>\n",
       "      <td>2.2</td>\n",
       "      <td>4/5</td>\n",
       "      <td>Plin</td>\n",
       "      <td>100.0</td>\n",
       "      <td>Modriča</td>\n",
       "      <td>Audi</td>\n",
       "      <td>348000.0</td>\n",
       "      <td>100</td>\n",
       "      <td>5000</td>\n",
       "      <td>Audi 100 Quattro 4x4 2.2 benz-plin</td>\n",
       "      <td>...</td>\n",
       "      <td>Siva</td>\n",
       "      <td>FALSE</td>\n",
       "      <td>Sva četiri</td>\n",
       "      <td>Euro 1</td>\n",
       "      <td>15.0</td>\n",
       "      <td>Manuelni</td>\n",
       "      <td>unavailable</td>\n",
       "      <td>True</td>\n",
       "      <td>True</td>\n",
       "      <td>FALSE</td>\n",
       "    </tr>\n",
       "    <tr>\n",
       "      <th>177</th>\n",
       "      <td>2.5</td>\n",
       "      <td>4/5</td>\n",
       "      <td>Dizel</td>\n",
       "      <td>110.0</td>\n",
       "      <td>Banja Luka</td>\n",
       "      <td>Audi</td>\n",
       "      <td>362000.0</td>\n",
       "      <td>A6</td>\n",
       "      <td>4800</td>\n",
       "      <td>Audi A6 1999</td>\n",
       "      <td>...</td>\n",
       "      <td>Plava</td>\n",
       "      <td>FALSE</td>\n",
       "      <td>Prednji</td>\n",
       "      <td>Euro 5</td>\n",
       "      <td>16.0</td>\n",
       "      <td>Manuelni</td>\n",
       "      <td>Limuzina</td>\n",
       "      <td>True</td>\n",
       "      <td>FALSE</td>\n",
       "      <td>True</td>\n",
       "    </tr>\n",
       "    <tr>\n",
       "      <th>183</th>\n",
       "      <td>2.0</td>\n",
       "      <td>2/3</td>\n",
       "      <td>Dizel</td>\n",
       "      <td>125.0</td>\n",
       "      <td>Sarajevo - Novi Grad</td>\n",
       "      <td>Audi</td>\n",
       "      <td>325000.0</td>\n",
       "      <td>A3</td>\n",
       "      <td>10500</td>\n",
       "      <td>Audi A3 2.0 TDI 2008. god 125 kw</td>\n",
       "      <td>...</td>\n",
       "      <td>Siva</td>\n",
       "      <td>FALSE</td>\n",
       "      <td>Prednji</td>\n",
       "      <td>Euro 4</td>\n",
       "      <td>18.0</td>\n",
       "      <td>Manuelni</td>\n",
       "      <td>Malo auto</td>\n",
       "      <td>True</td>\n",
       "      <td>FALSE</td>\n",
       "      <td>True</td>\n",
       "    </tr>\n",
       "    <tr>\n",
       "      <th>...</th>\n",
       "      <td>...</td>\n",
       "      <td>...</td>\n",
       "      <td>...</td>\n",
       "      <td>...</td>\n",
       "      <td>...</td>\n",
       "      <td>...</td>\n",
       "      <td>...</td>\n",
       "      <td>...</td>\n",
       "      <td>...</td>\n",
       "      <td>...</td>\n",
       "      <td>...</td>\n",
       "      <td>...</td>\n",
       "      <td>...</td>\n",
       "      <td>...</td>\n",
       "      <td>...</td>\n",
       "      <td>...</td>\n",
       "      <td>...</td>\n",
       "      <td>...</td>\n",
       "      <td>...</td>\n",
       "      <td>...</td>\n",
       "      <td>...</td>\n",
       "    </tr>\n",
       "    <tr>\n",
       "      <th>236179</th>\n",
       "      <td>2.0</td>\n",
       "      <td>4/5</td>\n",
       "      <td>Dizel</td>\n",
       "      <td>100.0</td>\n",
       "      <td>Konjic</td>\n",
       "      <td>Audi</td>\n",
       "      <td>254400.0</td>\n",
       "      <td>A3</td>\n",
       "      <td>15000</td>\n",
       "      <td>Audi A3 2.0 TDI 100 KW 06/2011 Sportback</td>\n",
       "      <td>...</td>\n",
       "      <td>Smeđa</td>\n",
       "      <td>True</td>\n",
       "      <td>Prednji</td>\n",
       "      <td>Euro 5</td>\n",
       "      <td>16.0</td>\n",
       "      <td>Manuelni</td>\n",
       "      <td>Limuzina</td>\n",
       "      <td>FALSE</td>\n",
       "      <td>True</td>\n",
       "      <td>FALSE</td>\n",
       "    </tr>\n",
       "    <tr>\n",
       "      <th>236182</th>\n",
       "      <td>2.0</td>\n",
       "      <td>4/5</td>\n",
       "      <td>Dizel</td>\n",
       "      <td>103.0</td>\n",
       "      <td>Busovača</td>\n",
       "      <td>Volkswagen</td>\n",
       "      <td>271000.0</td>\n",
       "      <td>Passat</td>\n",
       "      <td>12000</td>\n",
       "      <td>Volkswagen Passat 2010 Tek registrovan</td>\n",
       "      <td>...</td>\n",
       "      <td>Crna</td>\n",
       "      <td>True</td>\n",
       "      <td>Prednji</td>\n",
       "      <td>Euro 5</td>\n",
       "      <td>16.0</td>\n",
       "      <td>Automatik</td>\n",
       "      <td>Karavan</td>\n",
       "      <td>FALSE</td>\n",
       "      <td>FALSE</td>\n",
       "      <td>True</td>\n",
       "    </tr>\n",
       "    <tr>\n",
       "      <th>236183</th>\n",
       "      <td>1.6</td>\n",
       "      <td>4/5</td>\n",
       "      <td>Dizel</td>\n",
       "      <td>77.0</td>\n",
       "      <td>Tešanj</td>\n",
       "      <td>Volkswagen</td>\n",
       "      <td>262035.0</td>\n",
       "      <td>Jetta</td>\n",
       "      <td>14600</td>\n",
       "      <td>Volkswagen Jetta</td>\n",
       "      <td>...</td>\n",
       "      <td>Plava</td>\n",
       "      <td>FALSE</td>\n",
       "      <td>Prednji</td>\n",
       "      <td>Euro 5</td>\n",
       "      <td>16.0</td>\n",
       "      <td>Manuelni</td>\n",
       "      <td>unavailable</td>\n",
       "      <td>FALSE</td>\n",
       "      <td>FALSE</td>\n",
       "      <td>FALSE</td>\n",
       "    </tr>\n",
       "    <tr>\n",
       "      <th>236186</th>\n",
       "      <td>3.0</td>\n",
       "      <td>4/5</td>\n",
       "      <td>Dizel</td>\n",
       "      <td>165.0</td>\n",
       "      <td>Sarajevo - Novi Grad</td>\n",
       "      <td>Audi</td>\n",
       "      <td>308000.0</td>\n",
       "      <td>A6</td>\n",
       "      <td>12400</td>\n",
       "      <td>Audi A6 3.0 QUATTRO 3x S LINE FUL PAKET-tek re...</td>\n",
       "      <td>...</td>\n",
       "      <td>Siva</td>\n",
       "      <td>True</td>\n",
       "      <td>Sva četiri</td>\n",
       "      <td>Euro 3</td>\n",
       "      <td>20.0</td>\n",
       "      <td>Automatik</td>\n",
       "      <td>Limuzina</td>\n",
       "      <td>FALSE</td>\n",
       "      <td>True</td>\n",
       "      <td>True</td>\n",
       "    </tr>\n",
       "    <tr>\n",
       "      <th>236187</th>\n",
       "      <td>1.6</td>\n",
       "      <td>4/5</td>\n",
       "      <td>Dizel</td>\n",
       "      <td>77.0</td>\n",
       "      <td>Kiseljak</td>\n",
       "      <td>Volkswagen</td>\n",
       "      <td>270000.0</td>\n",
       "      <td>Golf</td>\n",
       "      <td>12500</td>\n",
       "      <td>Volkswagen Golf 2010</td>\n",
       "      <td>...</td>\n",
       "      <td>Plava</td>\n",
       "      <td>FALSE</td>\n",
       "      <td>Prednji</td>\n",
       "      <td>Euro 5</td>\n",
       "      <td>16.0</td>\n",
       "      <td>Manuelni</td>\n",
       "      <td>Limuzina</td>\n",
       "      <td>FALSE</td>\n",
       "      <td>FALSE</td>\n",
       "      <td>FALSE</td>\n",
       "    </tr>\n",
       "  </tbody>\n",
       "</table>\n",
       "<p>84434 rows × 22 columns</p>\n",
       "</div>"
      ],
      "text/plain": [
       "        displacement doors    fuel  kilowatts              location  \\\n",
       "171              1.8   4/5  Benzin      110.0                 Ključ   \n",
       "172              1.6   2/3    Plin       74.0     Sarajevo - Centar   \n",
       "173              2.2   4/5    Plin      100.0               Modriča   \n",
       "177              2.5   4/5   Dizel      110.0            Banja Luka   \n",
       "183              2.0   2/3   Dizel      125.0  Sarajevo - Novi Grad   \n",
       "...              ...   ...     ...        ...                   ...   \n",
       "236179           2.0   4/5   Dizel      100.0                Konjic   \n",
       "236182           2.0   4/5   Dizel      103.0              Busovača   \n",
       "236183           1.6   4/5   Dizel       77.0                Tešanj   \n",
       "236186           3.0   4/5   Dizel      165.0  Sarajevo - Novi Grad   \n",
       "236187           1.6   4/5   Dizel       77.0              Kiseljak   \n",
       "\n",
       "       manufacturer   mileage   model  price  \\\n",
       "171            Audi     400.0      A4   3700   \n",
       "172            Audi  270000.0      A3   1950   \n",
       "173            Audi  348000.0     100   5000   \n",
       "177            Audi  362000.0      A6   4800   \n",
       "183            Audi  325000.0      A3  10500   \n",
       "...             ...       ...     ...    ...   \n",
       "236179         Audi  254400.0      A3  15000   \n",
       "236182   Volkswagen  271000.0  Passat  12000   \n",
       "236183   Volkswagen  262035.0   Jetta  14600   \n",
       "236186         Audi  308000.0      A6  12400   \n",
       "236187   Volkswagen  270000.0    Golf  12500   \n",
       "\n",
       "                                                    title  ...  color  \\\n",
       "171                         Audi A4 Reg 12. mj sa Policom  ...   Siva   \n",
       "172                              Audi A3 1.6 sekvnet plin  ...   Siva   \n",
       "173                    Audi 100 Quattro 4x4 2.2 benz-plin  ...   Siva   \n",
       "177                                          Audi A6 1999  ...  Plava   \n",
       "183                      Audi A3 2.0 TDI 2008. god 125 kw  ...   Siva   \n",
       "...                                                   ...  ...    ...   \n",
       "236179           Audi A3 2.0 TDI 100 KW 06/2011 Sportback  ...  Smeđa   \n",
       "236182             Volkswagen Passat 2010 Tek registrovan  ...   Crna   \n",
       "236183                                   Volkswagen Jetta  ...  Plava   \n",
       "236186  Audi A6 3.0 QUATTRO 3x S LINE FUL PAKET-tek re...  ...   Siva   \n",
       "236187                               Volkswagen Golf 2010  ...  Plava   \n",
       "\n",
       "        cruiseControl  drivetrain emissionStandard rimSize transmission  \\\n",
       "171              True     Prednji           Euro 4    15.0     Manuelni   \n",
       "172             FALSE     Prednji           Euro 5    15.0     Manuelni   \n",
       "173             FALSE  Sva četiri           Euro 1    15.0     Manuelni   \n",
       "177             FALSE     Prednji           Euro 5    16.0     Manuelni   \n",
       "183             FALSE     Prednji           Euro 4    18.0     Manuelni   \n",
       "...               ...         ...              ...     ...          ...   \n",
       "236179           True     Prednji           Euro 5    16.0     Manuelni   \n",
       "236182           True     Prednji           Euro 5    16.0    Automatik   \n",
       "236183          FALSE     Prednji           Euro 5    16.0     Manuelni   \n",
       "236186           True  Sva četiri           Euro 3    20.0    Automatik   \n",
       "236187          FALSE     Prednji           Euro 5    16.0     Manuelni   \n",
       "\n",
       "               type airCondition navigation registration  \n",
       "171         Karavan         True      FALSE         True  \n",
       "172     unavailable        FALSE      FALSE        FALSE  \n",
       "173     unavailable         True       True        FALSE  \n",
       "177        Limuzina         True      FALSE         True  \n",
       "183       Malo auto         True      FALSE         True  \n",
       "...             ...          ...        ...          ...  \n",
       "236179     Limuzina        FALSE       True        FALSE  \n",
       "236182      Karavan        FALSE      FALSE         True  \n",
       "236183  unavailable        FALSE      FALSE        FALSE  \n",
       "236186     Limuzina        FALSE       True         True  \n",
       "236187     Limuzina        FALSE      FALSE        FALSE  \n",
       "\n",
       "[84434 rows x 22 columns]"
      ]
     },
     "execution_count": 45,
     "metadata": {},
     "output_type": "execute_result"
    }
   ],
   "source": [
    "df_all = df[df[\"manufacturer\"].isin([\"Volkswagen\", \"Audi\", \"Mercedes-Benz\"])]\n",
    "df_all\n"
   ]
  },
  {
   "cell_type": "code",
   "execution_count": 46,
   "metadata": {},
   "outputs": [
    {
     "data": {
      "text/html": [
       "<div>\n",
       "<style scoped>\n",
       "    .dataframe tbody tr th:only-of-type {\n",
       "        vertical-align: middle;\n",
       "    }\n",
       "\n",
       "    .dataframe tbody tr th {\n",
       "        vertical-align: top;\n",
       "    }\n",
       "\n",
       "    .dataframe thead th {\n",
       "        text-align: right;\n",
       "    }\n",
       "</style>\n",
       "<table border=\"1\" class=\"dataframe\">\n",
       "  <thead>\n",
       "    <tr style=\"text-align: right;\">\n",
       "      <th></th>\n",
       "      <th>displacement</th>\n",
       "      <th>kilowatts</th>\n",
       "      <th>mileage</th>\n",
       "      <th>price</th>\n",
       "      <th>year</th>\n",
       "      <th>rimSize</th>\n",
       "      <th>manufacturer</th>\n",
       "    </tr>\n",
       "  </thead>\n",
       "  <tbody>\n",
       "    <tr>\n",
       "      <th>171</th>\n",
       "      <td>1.8</td>\n",
       "      <td>110.0</td>\n",
       "      <td>400.0</td>\n",
       "      <td>3700</td>\n",
       "      <td>2001.0</td>\n",
       "      <td>15.0</td>\n",
       "      <td>Audi</td>\n",
       "    </tr>\n",
       "    <tr>\n",
       "      <th>172</th>\n",
       "      <td>1.6</td>\n",
       "      <td>74.0</td>\n",
       "      <td>270000.0</td>\n",
       "      <td>1950</td>\n",
       "      <td>1996.0</td>\n",
       "      <td>15.0</td>\n",
       "      <td>Audi</td>\n",
       "    </tr>\n",
       "    <tr>\n",
       "      <th>173</th>\n",
       "      <td>2.2</td>\n",
       "      <td>100.0</td>\n",
       "      <td>348000.0</td>\n",
       "      <td>5000</td>\n",
       "      <td>1983.0</td>\n",
       "      <td>15.0</td>\n",
       "      <td>Audi</td>\n",
       "    </tr>\n",
       "    <tr>\n",
       "      <th>177</th>\n",
       "      <td>2.5</td>\n",
       "      <td>110.0</td>\n",
       "      <td>362000.0</td>\n",
       "      <td>4800</td>\n",
       "      <td>1999.0</td>\n",
       "      <td>16.0</td>\n",
       "      <td>Audi</td>\n",
       "    </tr>\n",
       "    <tr>\n",
       "      <th>183</th>\n",
       "      <td>2.0</td>\n",
       "      <td>125.0</td>\n",
       "      <td>325000.0</td>\n",
       "      <td>10500</td>\n",
       "      <td>2008.0</td>\n",
       "      <td>18.0</td>\n",
       "      <td>Audi</td>\n",
       "    </tr>\n",
       "    <tr>\n",
       "      <th>...</th>\n",
       "      <td>...</td>\n",
       "      <td>...</td>\n",
       "      <td>...</td>\n",
       "      <td>...</td>\n",
       "      <td>...</td>\n",
       "      <td>...</td>\n",
       "      <td>...</td>\n",
       "    </tr>\n",
       "    <tr>\n",
       "      <th>236179</th>\n",
       "      <td>2.0</td>\n",
       "      <td>100.0</td>\n",
       "      <td>254400.0</td>\n",
       "      <td>15000</td>\n",
       "      <td>2011.0</td>\n",
       "      <td>16.0</td>\n",
       "      <td>Audi</td>\n",
       "    </tr>\n",
       "    <tr>\n",
       "      <th>236182</th>\n",
       "      <td>2.0</td>\n",
       "      <td>103.0</td>\n",
       "      <td>271000.0</td>\n",
       "      <td>12000</td>\n",
       "      <td>2010.0</td>\n",
       "      <td>16.0</td>\n",
       "      <td>Volkswagen</td>\n",
       "    </tr>\n",
       "    <tr>\n",
       "      <th>236183</th>\n",
       "      <td>1.6</td>\n",
       "      <td>77.0</td>\n",
       "      <td>262035.0</td>\n",
       "      <td>14600</td>\n",
       "      <td>2012.0</td>\n",
       "      <td>16.0</td>\n",
       "      <td>Volkswagen</td>\n",
       "    </tr>\n",
       "    <tr>\n",
       "      <th>236186</th>\n",
       "      <td>3.0</td>\n",
       "      <td>165.0</td>\n",
       "      <td>308000.0</td>\n",
       "      <td>12400</td>\n",
       "      <td>2005.0</td>\n",
       "      <td>20.0</td>\n",
       "      <td>Audi</td>\n",
       "    </tr>\n",
       "    <tr>\n",
       "      <th>236187</th>\n",
       "      <td>1.6</td>\n",
       "      <td>77.0</td>\n",
       "      <td>270000.0</td>\n",
       "      <td>12500</td>\n",
       "      <td>2010.0</td>\n",
       "      <td>16.0</td>\n",
       "      <td>Volkswagen</td>\n",
       "    </tr>\n",
       "  </tbody>\n",
       "</table>\n",
       "<p>84434 rows × 7 columns</p>\n",
       "</div>"
      ],
      "text/plain": [
       "        displacement  kilowatts   mileage  price    year  rimSize manufacturer\n",
       "171              1.8      110.0     400.0   3700  2001.0     15.0         Audi\n",
       "172              1.6       74.0  270000.0   1950  1996.0     15.0         Audi\n",
       "173              2.2      100.0  348000.0   5000  1983.0     15.0         Audi\n",
       "177              2.5      110.0  362000.0   4800  1999.0     16.0         Audi\n",
       "183              2.0      125.0  325000.0  10500  2008.0     18.0         Audi\n",
       "...              ...        ...       ...    ...     ...      ...          ...\n",
       "236179           2.0      100.0  254400.0  15000  2011.0     16.0         Audi\n",
       "236182           2.0      103.0  271000.0  12000  2010.0     16.0   Volkswagen\n",
       "236183           1.6       77.0  262035.0  14600  2012.0     16.0   Volkswagen\n",
       "236186           3.0      165.0  308000.0  12400  2005.0     20.0         Audi\n",
       "236187           1.6       77.0  270000.0  12500  2010.0     16.0   Volkswagen\n",
       "\n",
       "[84434 rows x 7 columns]"
      ]
     },
     "execution_count": 46,
     "metadata": {},
     "output_type": "execute_result"
    }
   ],
   "source": [
    "df_all_numeric = df_all[['displacement', 'kilowatts', 'mileage', 'price', 'year', 'rimSize', 'manufacturer']]\n",
    "df_all_numeric"
   ]
  },
  {
   "cell_type": "code",
   "execution_count": 47,
   "metadata": {},
   "outputs": [
    {
     "data": {
      "image/png": "[encoded data removed]",
      "text/plain": [
       "<Figure size 1000x600 with 1 Axes>"
      ]
     },
     "metadata": {},
     "output_type": "display_data"
    }
   ],
   "source": [
    "import pandas as pd\n",
    "import seaborn as sns\n",
    "import matplotlib.pyplot as plt\n",
    "\n",
    "# Example data (Assuming you have already prepared df_all_numeric)\n",
    "# df_all_numeric = your_dataframe\n",
    "\n",
    "# Filter the data to remove extreme values\n",
    "filtered_df = df_all_numeric[df_all_numeric['price'] <= 100000]\n",
    "\n",
    "plt.figure(figsize=(10, 6))\n",
    "\n",
    "# Plot KDE for each manufacturer\n",
    "sns.kdeplot(data=filtered_df, x='price', hue='manufacturer', common_norm=False, linewidth=2)\n",
    "\n",
    "# Further limit the x-axis to focus on the most relevant range\n",
    "plt.xlim(0, 100000)\n",
    "\n",
    "plt.title('Price Distribution by Manufacturer (Filtered and Limited)')\n",
    "plt.xlabel('Price')\n",
    "plt.ylabel('Density')\n",
    "plt.show()"
   ]
  },
  {
   "cell_type": "code",
   "execution_count": 48,
   "metadata": {},
   "outputs": [
    {
     "name": "stdout",
     "output_type": "stream",
     "text": [
      "{'label': '5000', 'Volkswagen': np.float64(3.73), 'Audi': np.float64(1.93), 'Mercedes-Benz': np.float64(3.21)}\n",
      "{'label': '10000', 'Volkswagen': np.float64(4.27), 'Audi': np.float64(2.72), 'Mercedes-Benz': np.float64(3.33)}\n",
      "{'label': '15000', 'Volkswagen': np.float64(4.17), 'Audi': np.float64(3.65), 'Mercedes-Benz': np.float64(2.39)}\n",
      "{'label': '20000', 'Volkswagen': np.float64(2.76), 'Audi': np.float64(2.59), 'Mercedes-Benz': np.float64(2.15)}\n",
      "{'label': '25000', 'Volkswagen': np.float64(1.46), 'Audi': np.float64(2.06), 'Mercedes-Benz': np.float64(1.68)}\n",
      "{'label': '30000', 'Volkswagen': np.float64(0.86), 'Audi': np.float64(1.86), 'Mercedes-Benz': np.float64(1.11)}\n",
      "{'label': '35000', 'Volkswagen': np.float64(0.56), 'Audi': np.float64(1.29), 'Mercedes-Benz': np.float64(0.89)}\n",
      "{'label': '40000', 'Volkswagen': np.float64(0.4), 'Audi': np.float64(0.87), 'Mercedes-Benz': np.float64(0.72)}\n",
      "{'label': '45000', 'Volkswagen': np.float64(0.31), 'Audi': np.float64(0.57), 'Mercedes-Benz': np.float64(0.58)}\n",
      "{'label': '50000', 'Volkswagen': np.float64(0.22), 'Audi': np.float64(0.4), 'Mercedes-Benz': np.float64(0.48)}\n",
      "{'label': '55000', 'Volkswagen': np.float64(0.15), 'Audi': np.float64(0.3), 'Mercedes-Benz': np.float64(0.41)}\n",
      "{'label': '60000', 'Volkswagen': np.float64(0.1), 'Audi': np.float64(0.25), 'Mercedes-Benz': np.float64(0.34)}\n",
      "{'label': '65000', 'Volkswagen': np.float64(0.07), 'Audi': np.float64(0.22), 'Mercedes-Benz': np.float64(0.29)}\n",
      "{'label': '70000', 'Volkswagen': np.float64(0.05), 'Audi': np.float64(0.22), 'Mercedes-Benz': np.float64(0.26)}\n",
      "{'label': '75000', 'Volkswagen': np.float64(0.05), 'Audi': np.float64(0.18), 'Mercedes-Benz': np.float64(0.22)}\n",
      "{'label': '80000', 'Volkswagen': np.float64(0.03), 'Audi': np.float64(0.12), 'Mercedes-Benz': np.float64(0.22)}\n",
      "{'label': '85000', 'Volkswagen': np.float64(0.03), 'Audi': np.float64(0.1), 'Mercedes-Benz': np.float64(0.19)}\n",
      "{'label': '90000', 'Volkswagen': np.float64(0.03), 'Audi': np.float64(0.08), 'Mercedes-Benz': np.float64(0.17)}\n",
      "{'label': '95000', 'Volkswagen': np.float64(0.03), 'Audi': np.float64(0.06), 'Mercedes-Benz': np.float64(0.14)}\n",
      "{'label': '100000', 'Volkswagen': np.float64(0.01), 'Audi': np.float64(0.05), 'Mercedes-Benz': np.float64(0.09)}\n"
     ]
    }
   ],
   "source": [
    "import numpy as np\n",
    "from scipy.stats import gaussian_kde\n",
    "\n",
    "# Assuming df_all_numeric is your DataFrame with filtered prices <= 100,000\n",
    "# Filter the data for each manufacturer\n",
    "volkswagen_data = filtered_df[filtered_df['manufacturer'] == 'Volkswagen']['price']\n",
    "audi_data = filtered_df[filtered_df['manufacturer'] == 'Audi']['price']\n",
    "mercedes_data = filtered_df[filtered_df['manufacturer'] == 'Mercedes-Benz']['price']\n",
    "\n",
    "# Fit KDE for each manufacturer's price data\n",
    "kde_volkswagen = gaussian_kde(volkswagen_data)\n",
    "kde_audi = gaussian_kde(audi_data)\n",
    "kde_mercedes = gaussian_kde(mercedes_data)\n",
    "\n",
    "# Define the price points of interest\n",
    "price_points = np.arange(5000, 100001, 5000)\n",
    "\n",
    "# Scale factor based on the graph's y-axis (adjust as needed)\n",
    "scale_factor = 1e5  # Example scaling factor to match the graph\n",
    "\n",
    "# Initialize the list to store the formatted data\n",
    "formatted_data = []\n",
    "\n",
    "# Evaluate the KDE at each price point and store the results in the desired format\n",
    "for x_point in price_points:\n",
    "    y_point_volkswagen = kde_volkswagen(x_point)[0] * scale_factor\n",
    "    y_point_audi = kde_audi(x_point)[0] * scale_factor\n",
    "    y_point_mercedes = kde_mercedes(x_point)[0] * scale_factor\n",
    "    \n",
    "    # Create a dictionary for the current price point with rounded values to 2 decimals\n",
    "    data_entry = {\n",
    "        \"label\": str(x_point),\n",
    "        \"Volkswagen\": round(y_point_volkswagen, 2),\n",
    "        \"Audi\": round(y_point_audi, 2),\n",
    "        \"Mercedes-Benz\": round(y_point_mercedes, 2)\n",
    "    }\n",
    "    \n",
    "    # Append the dictionary to the list\n",
    "    formatted_data.append(data_entry)\n",
    "\n",
    "# Print the formatted data\n",
    "for entry in formatted_data:\n",
    "    print(entry)\n",
    "\n"
   ]
  },
  {
   "cell_type": "code",
   "execution_count": 51,
   "metadata": {},
   "outputs": [
    {
     "data": {
      "image/png": "[encoded data removed]",
      "text/plain": [
       "<Figure size 1000x600 with 1 Axes>"
      ]
     },
     "metadata": {},
     "output_type": "display_data"
    }
   ],
   "source": [
    "import seaborn as sns\n",
    "import matplotlib.pyplot as plt\n",
    "import pandas as pd\n",
    "\n",
    "# Step 1: Create a simple dataset\n",
    "df = df_all_numeric  # Assuming df_all_numeric is already defined\n",
    "x = df[\"year\"].values\n",
    "y = df[\"price\"].values\n",
    "\n",
    "# Step 2: Create the line plot\n",
    "plt.figure(figsize=(10, 6))\n",
    "sns.lineplot(data=df, x=x, y=y, hue='manufacturer', marker='o', lw=2)\n",
    "\n",
    "# Step 3: Customize the plot\n",
    "plt.title('Line Plot Example with Seaborn', fontsize=16)\n",
    "plt.xlabel('Year', fontsize=14)  # Updated the x-axis label for clarity\n",
    "plt.ylabel('Price', fontsize=14)  # Updated the y-axis label for clarity\n",
    "plt.grid(True)\n",
    "\n",
    "# Step 4: Set y-axis limit\n",
    "plt.ylim(0, 100000)  # Limit y-axis values from 0 to 100,000\n",
    "\n",
    "# Step 5: Set x-axis limit\n",
    "plt.xlim(1950, df['year'].max())  # Limit x-axis from 1970 to the maximum year in the dataset\n",
    "\n",
    "# Step 6: Show the plot\n",
    "plt.show()\n",
    "\n"
   ]
  },
  {
   "cell_type": "code",
   "execution_count": 205,
   "metadata": {},
   "outputs": [
    {
     "data": {
      "text/plain": [
       "<Axes: >"
      ]
     },
     "execution_count": 205,
     "metadata": {},
     "output_type": "execute_result"
    },
    {
     "data": {
      "image/png": "[encoded data removed]",
      "text/plain": [
       "<Figure size 640x480 with 2 Axes>"
      ]
     },
     "metadata": {},
     "output_type": "display_data"
    }
   ],
   "source": [
    "numericke_vrijednosti = df_volkswagen.select_dtypes(include=[np.number])\n",
    "korelacija = numericke_vrijednosti.corr()\n",
    "sns.heatmap(data=korelacija, annot=True)"
   ]
  },
  {
   "cell_type": "code",
   "execution_count": 369,
   "metadata": {},
   "outputs": [
    {
     "data": {
      "text/plain": [
       "<Axes: >"
      ]
     },
     "execution_count": 369,
     "metadata": {},
     "output_type": "execute_result"
    },
    {
     "data": {
      "image/png": "[encoded data removed]",
      "text/plain": [
       "<Figure size 640x480 with 2 Axes>"
      ]
     },
     "metadata": {},
     "output_type": "display_data"
    }
   ],
   "source": [
    "numericke_vrijednosti = df_audi.select_dtypes(include=[np.number])\n",
    "korelacija = numericke_vrijednosti.corr()\n",
    "sns.heatmap(data=korelacija, annot=True)"
   ]
  },
  {
   "cell_type": "code",
   "execution_count": 470,
   "metadata": {},
   "outputs": [
    {
     "data": {
      "text/plain": [
       "<Axes: >"
      ]
     },
     "execution_count": 470,
     "metadata": {},
     "output_type": "execute_result"
    },
    {
     "data": {
      "image/png": "[encoded data removed]",
      "text/plain": [
       "<Figure size 640x480 with 2 Axes>"
      ]
     },
     "metadata": {},
     "output_type": "display_data"
    }
   ],
   "source": [
    "numericke_vrijednosti = df_mercedes_benz.select_dtypes(include=[np.number])\n",
    "korelacija = numericke_vrijednosti.corr()\n",
    "sns.heatmap(data=korelacija, annot=True)"
   ]
  },
  {
   "cell_type": "code",
   "execution_count": 57,
   "metadata": {},
   "outputs": [
    {
     "data": {
      "text/html": [
       "<div>\n",
       "<style scoped>\n",
       "    .dataframe tbody tr th:only-of-type {\n",
       "        vertical-align: middle;\n",
       "    }\n",
       "\n",
       "    .dataframe tbody tr th {\n",
       "        vertical-align: top;\n",
       "    }\n",
       "\n",
       "    .dataframe thead th {\n",
       "        text-align: right;\n",
       "    }\n",
       "</style>\n",
       "<table border=\"1\" class=\"dataframe\">\n",
       "  <thead>\n",
       "    <tr style=\"text-align: right;\">\n",
       "      <th></th>\n",
       "      <th>displacement</th>\n",
       "      <th>kilowatts</th>\n",
       "      <th>mileage</th>\n",
       "      <th>price</th>\n",
       "      <th>year</th>\n",
       "      <th>rimSize</th>\n",
       "    </tr>\n",
       "  </thead>\n",
       "  <tbody>\n",
       "    <tr>\n",
       "      <th>count</th>\n",
       "      <td>50577.00</td>\n",
       "      <td>50577.00</td>\n",
       "      <td>50577.00</td>\n",
       "      <td>50577.00</td>\n",
       "      <td>50577.00</td>\n",
       "      <td>50577.00</td>\n",
       "    </tr>\n",
       "    <tr>\n",
       "      <th>mean</th>\n",
       "      <td>1.82</td>\n",
       "      <td>89.08</td>\n",
       "      <td>235771.01</td>\n",
       "      <td>17226.55</td>\n",
       "      <td>2009.04</td>\n",
       "      <td>16.18</td>\n",
       "    </tr>\n",
       "    <tr>\n",
       "      <th>std</th>\n",
       "      <td>0.30</td>\n",
       "      <td>26.36</td>\n",
       "      <td>90169.67</td>\n",
       "      <td>15353.06</td>\n",
       "      <td>6.79</td>\n",
       "      <td>1.02</td>\n",
       "    </tr>\n",
       "    <tr>\n",
       "      <th>min</th>\n",
       "      <td>0.00</td>\n",
       "      <td>20.00</td>\n",
       "      <td>0.00</td>\n",
       "      <td>500.00</td>\n",
       "      <td>1950.00</td>\n",
       "      <td>13.00</td>\n",
       "    </tr>\n",
       "    <tr>\n",
       "      <th>25%</th>\n",
       "      <td>1.60</td>\n",
       "      <td>77.00</td>\n",
       "      <td>200000.00</td>\n",
       "      <td>8400.00</td>\n",
       "      <td>2006.00</td>\n",
       "      <td>16.00</td>\n",
       "    </tr>\n",
       "    <tr>\n",
       "      <th>50%</th>\n",
       "      <td>1.90</td>\n",
       "      <td>81.00</td>\n",
       "      <td>246000.00</td>\n",
       "      <td>13700.00</td>\n",
       "      <td>2010.00</td>\n",
       "      <td>16.00</td>\n",
       "    </tr>\n",
       "    <tr>\n",
       "      <th>75%</th>\n",
       "      <td>2.00</td>\n",
       "      <td>103.00</td>\n",
       "      <td>285000.00</td>\n",
       "      <td>20999.00</td>\n",
       "      <td>2013.00</td>\n",
       "      <td>16.00</td>\n",
       "    </tr>\n",
       "    <tr>\n",
       "      <th>max</th>\n",
       "      <td>5.00</td>\n",
       "      <td>300.00</td>\n",
       "      <td>1000000.00</td>\n",
       "      <td>654321.00</td>\n",
       "      <td>2024.00</td>\n",
       "      <td>22.00</td>\n",
       "    </tr>\n",
       "  </tbody>\n",
       "</table>\n",
       "</div>"
      ],
      "text/plain": [
       "       displacement  kilowatts     mileage      price      year   rimSize\n",
       "count      50577.00   50577.00    50577.00   50577.00  50577.00  50577.00\n",
       "mean           1.82      89.08   235771.01   17226.55   2009.04     16.18\n",
       "std            0.30      26.36    90169.67   15353.06      6.79      1.02\n",
       "min            0.00      20.00        0.00     500.00   1950.00     13.00\n",
       "25%            1.60      77.00   200000.00    8400.00   2006.00     16.00\n",
       "50%            1.90      81.00   246000.00   13700.00   2010.00     16.00\n",
       "75%            2.00     103.00   285000.00   20999.00   2013.00     16.00\n",
       "max            5.00     300.00  1000000.00  654321.00   2024.00     22.00"
      ]
     },
     "execution_count": 57,
     "metadata": {},
     "output_type": "execute_result"
    }
   ],
   "source": [
    "df_volkswagen.describe().round(2)"
   ]
  },
  {
   "cell_type": "code",
   "execution_count": 58,
   "metadata": {},
   "outputs": [
    {
     "data": {
      "text/html": [
       "<div>\n",
       "<style scoped>\n",
       "    .dataframe tbody tr th:only-of-type {\n",
       "        vertical-align: middle;\n",
       "    }\n",
       "\n",
       "    .dataframe tbody tr th {\n",
       "        vertical-align: top;\n",
       "    }\n",
       "\n",
       "    .dataframe thead th {\n",
       "        text-align: right;\n",
       "    }\n",
       "</style>\n",
       "<table border=\"1\" class=\"dataframe\">\n",
       "  <thead>\n",
       "    <tr style=\"text-align: right;\">\n",
       "      <th></th>\n",
       "      <th>displacement</th>\n",
       "      <th>kilowatts</th>\n",
       "      <th>mileage</th>\n",
       "      <th>price</th>\n",
       "      <th>year</th>\n",
       "      <th>rimSize</th>\n",
       "    </tr>\n",
       "  </thead>\n",
       "  <tbody>\n",
       "    <tr>\n",
       "      <th>count</th>\n",
       "      <td>20497.00</td>\n",
       "      <td>20497.00</td>\n",
       "      <td>20497.00</td>\n",
       "      <td>20497.00</td>\n",
       "      <td>20497.00</td>\n",
       "      <td>20497.00</td>\n",
       "    </tr>\n",
       "    <tr>\n",
       "      <th>mean</th>\n",
       "      <td>2.25</td>\n",
       "      <td>128.38</td>\n",
       "      <td>234883.04</td>\n",
       "      <td>27819.49</td>\n",
       "      <td>2010.13</td>\n",
       "      <td>17.15</td>\n",
       "    </tr>\n",
       "    <tr>\n",
       "      <th>std</th>\n",
       "      <td>0.53</td>\n",
       "      <td>44.39</td>\n",
       "      <td>88329.65</td>\n",
       "      <td>27994.26</td>\n",
       "      <td>5.79</td>\n",
       "      <td>1.47</td>\n",
       "    </tr>\n",
       "    <tr>\n",
       "      <th>min</th>\n",
       "      <td>0.60</td>\n",
       "      <td>1.00</td>\n",
       "      <td>0.00</td>\n",
       "      <td>500.00</td>\n",
       "      <td>1971.00</td>\n",
       "      <td>13.00</td>\n",
       "    </tr>\n",
       "    <tr>\n",
       "      <th>25%</th>\n",
       "      <td>2.00</td>\n",
       "      <td>103.00</td>\n",
       "      <td>200000.00</td>\n",
       "      <td>12750.00</td>\n",
       "      <td>2007.00</td>\n",
       "      <td>16.00</td>\n",
       "    </tr>\n",
       "    <tr>\n",
       "      <th>50%</th>\n",
       "      <td>2.00</td>\n",
       "      <td>120.00</td>\n",
       "      <td>248000.00</td>\n",
       "      <td>19600.00</td>\n",
       "      <td>2010.00</td>\n",
       "      <td>17.00</td>\n",
       "    </tr>\n",
       "    <tr>\n",
       "      <th>75%</th>\n",
       "      <td>2.70</td>\n",
       "      <td>150.00</td>\n",
       "      <td>287650.00</td>\n",
       "      <td>32900.00</td>\n",
       "      <td>2013.00</td>\n",
       "      <td>18.00</td>\n",
       "    </tr>\n",
       "    <tr>\n",
       "      <th>max</th>\n",
       "      <td>5.20</td>\n",
       "      <td>441.00</td>\n",
       "      <td>999999.00</td>\n",
       "      <td>338226.00</td>\n",
       "      <td>2024.00</td>\n",
       "      <td>23.00</td>\n",
       "    </tr>\n",
       "  </tbody>\n",
       "</table>\n",
       "</div>"
      ],
      "text/plain": [
       "       displacement  kilowatts    mileage      price      year   rimSize\n",
       "count      20497.00   20497.00   20497.00   20497.00  20497.00  20497.00\n",
       "mean           2.25     128.38  234883.04   27819.49   2010.13     17.15\n",
       "std            0.53      44.39   88329.65   27994.26      5.79      1.47\n",
       "min            0.60       1.00       0.00     500.00   1971.00     13.00\n",
       "25%            2.00     103.00  200000.00   12750.00   2007.00     16.00\n",
       "50%            2.00     120.00  248000.00   19600.00   2010.00     17.00\n",
       "75%            2.70     150.00  287650.00   32900.00   2013.00     18.00\n",
       "max            5.20     441.00  999999.00  338226.00   2024.00     23.00"
      ]
     },
     "execution_count": 58,
     "metadata": {},
     "output_type": "execute_result"
    }
   ],
   "source": [
    "df_audi.describe().round(2)"
   ]
  },
  {
   "cell_type": "code",
   "execution_count": 59,
   "metadata": {},
   "outputs": [
    {
     "data": {
      "text/html": [
       "<div>\n",
       "<style scoped>\n",
       "    .dataframe tbody tr th:only-of-type {\n",
       "        vertical-align: middle;\n",
       "    }\n",
       "\n",
       "    .dataframe tbody tr th {\n",
       "        vertical-align: top;\n",
       "    }\n",
       "\n",
       "    .dataframe thead th {\n",
       "        text-align: right;\n",
       "    }\n",
       "</style>\n",
       "<table border=\"1\" class=\"dataframe\">\n",
       "  <thead>\n",
       "    <tr style=\"text-align: right;\">\n",
       "      <th></th>\n",
       "      <th>displacement</th>\n",
       "      <th>kilowatts</th>\n",
       "      <th>mileage</th>\n",
       "      <th>price</th>\n",
       "      <th>year</th>\n",
       "      <th>rimSize</th>\n",
       "    </tr>\n",
       "  </thead>\n",
       "  <tbody>\n",
       "    <tr>\n",
       "      <th>count</th>\n",
       "      <td>13360.00</td>\n",
       "      <td>13360.00</td>\n",
       "      <td>13360.00</td>\n",
       "      <td>13360.00</td>\n",
       "      <td>13360.00</td>\n",
       "      <td>13360.00</td>\n",
       "    </tr>\n",
       "    <tr>\n",
       "      <th>mean</th>\n",
       "      <td>2.34</td>\n",
       "      <td>124.25</td>\n",
       "      <td>242664.13</td>\n",
       "      <td>29982.46</td>\n",
       "      <td>2008.78</td>\n",
       "      <td>16.82</td>\n",
       "    </tr>\n",
       "    <tr>\n",
       "      <th>std</th>\n",
       "      <td>0.58</td>\n",
       "      <td>59.63</td>\n",
       "      <td>110061.39</td>\n",
       "      <td>36467.86</td>\n",
       "      <td>7.53</td>\n",
       "      <td>1.38</td>\n",
       "    </tr>\n",
       "    <tr>\n",
       "      <th>min</th>\n",
       "      <td>0.60</td>\n",
       "      <td>0.00</td>\n",
       "      <td>0.00</td>\n",
       "      <td>500.00</td>\n",
       "      <td>1951.00</td>\n",
       "      <td>13.00</td>\n",
       "    </tr>\n",
       "    <tr>\n",
       "      <th>25%</th>\n",
       "      <td>2.00</td>\n",
       "      <td>90.00</td>\n",
       "      <td>183033.75</td>\n",
       "      <td>8687.50</td>\n",
       "      <td>2004.00</td>\n",
       "      <td>16.00</td>\n",
       "    </tr>\n",
       "    <tr>\n",
       "      <th>50%</th>\n",
       "      <td>2.20</td>\n",
       "      <td>110.00</td>\n",
       "      <td>254000.00</td>\n",
       "      <td>18500.00</td>\n",
       "      <td>2010.00</td>\n",
       "      <td>16.00</td>\n",
       "    </tr>\n",
       "    <tr>\n",
       "      <th>75%</th>\n",
       "      <td>2.70</td>\n",
       "      <td>145.00</td>\n",
       "      <td>306000.00</td>\n",
       "      <td>36000.00</td>\n",
       "      <td>2014.00</td>\n",
       "      <td>17.00</td>\n",
       "    </tr>\n",
       "    <tr>\n",
       "      <th>max</th>\n",
       "      <td>7.30</td>\n",
       "      <td>3500.00</td>\n",
       "      <td>1000000.00</td>\n",
       "      <td>600000.00</td>\n",
       "      <td>2024.00</td>\n",
       "      <td>23.00</td>\n",
       "    </tr>\n",
       "  </tbody>\n",
       "</table>\n",
       "</div>"
      ],
      "text/plain": [
       "       displacement  kilowatts     mileage      price      year   rimSize\n",
       "count      13360.00   13360.00    13360.00   13360.00  13360.00  13360.00\n",
       "mean           2.34     124.25   242664.13   29982.46   2008.78     16.82\n",
       "std            0.58      59.63   110061.39   36467.86      7.53      1.38\n",
       "min            0.60       0.00        0.00     500.00   1951.00     13.00\n",
       "25%            2.00      90.00   183033.75    8687.50   2004.00     16.00\n",
       "50%            2.20     110.00   254000.00   18500.00   2010.00     16.00\n",
       "75%            2.70     145.00   306000.00   36000.00   2014.00     17.00\n",
       "max            7.30    3500.00  1000000.00  600000.00   2024.00     23.00"
      ]
     },
     "execution_count": 59,
     "metadata": {},
     "output_type": "execute_result"
    }
   ],
   "source": [
    "df_mercedes_benz.describe().round(2)"
   ]
  },
  {
   "cell_type": "code",
   "execution_count": 60,
   "metadata": {},
   "outputs": [
    {
     "data": {
      "text/plain": [
       "(50577, 22)"
      ]
     },
     "execution_count": 60,
     "metadata": {},
     "output_type": "execute_result"
    }
   ],
   "source": [
    "df_volkswagen.shape"
   ]
  },
  {
   "cell_type": "code",
   "execution_count": 61,
   "metadata": {},
   "outputs": [
    {
     "data": {
      "text/plain": [
       "displacement        0\n",
       "doors               0\n",
       "fuel                0\n",
       "kilowatts           0\n",
       "location            0\n",
       "manufacturer        0\n",
       "mileage             0\n",
       "model               0\n",
       "price               0\n",
       "title               0\n",
       "updatedAt           0\n",
       "year                0\n",
       "color               0\n",
       "cruiseControl       0\n",
       "drivetrain          0\n",
       "emissionStandard    0\n",
       "rimSize             0\n",
       "transmission        0\n",
       "type                0\n",
       "airCondition        0\n",
       "navigation          0\n",
       "registration        0\n",
       "dtype: int64"
      ]
     },
     "execution_count": 61,
     "metadata": {},
     "output_type": "execute_result"
    }
   ],
   "source": [
    "df_mercedes_benz.isnull().sum()"
   ]
  },
  {
   "cell_type": "code",
   "execution_count": null,
   "metadata": {},
   "outputs": [],
   "source": [
    "##df_mercedes_benz.to_csv(\"mercedes_cleaned.csv\", sep=',', index=False, encoding='utf-8')"
   ]
  },
  {
   "cell_type": "code",
   "execution_count": 62,
   "metadata": {},
   "outputs": [],
   "source": [
    "df_all_cleaned = pd.read_csv(\"all_cleaned.csv\")\n"
   ]
  },
  {
   "cell_type": "code",
   "execution_count": 63,
   "metadata": {},
   "outputs": [
    {
     "data": {
      "text/html": [
       "<div>\n",
       "<style scoped>\n",
       "    .dataframe tbody tr th:only-of-type {\n",
       "        vertical-align: middle;\n",
       "    }\n",
       "\n",
       "    .dataframe tbody tr th {\n",
       "        vertical-align: top;\n",
       "    }\n",
       "\n",
       "    .dataframe thead th {\n",
       "        text-align: right;\n",
       "    }\n",
       "</style>\n",
       "<table border=\"1\" class=\"dataframe\">\n",
       "  <thead>\n",
       "    <tr style=\"text-align: right;\">\n",
       "      <th></th>\n",
       "      <th>displacement</th>\n",
       "      <th>kilowatts</th>\n",
       "      <th>mileage</th>\n",
       "      <th>price</th>\n",
       "      <th>year</th>\n",
       "      <th>rimSize</th>\n",
       "      <th>manufacturer</th>\n",
       "    </tr>\n",
       "  </thead>\n",
       "  <tbody>\n",
       "    <tr>\n",
       "      <th>77482</th>\n",
       "      <td>2.0</td>\n",
       "      <td>110.0</td>\n",
       "      <td>0.0</td>\n",
       "      <td>101006</td>\n",
       "      <td>2024.0</td>\n",
       "      <td>18.0</td>\n",
       "      <td>Mercedes-Benz</td>\n",
       "    </tr>\n",
       "    <tr>\n",
       "      <th>80988</th>\n",
       "      <td>2.0</td>\n",
       "      <td>110.0</td>\n",
       "      <td>5.0</td>\n",
       "      <td>103990</td>\n",
       "      <td>2024.0</td>\n",
       "      <td>18.0</td>\n",
       "      <td>Mercedes-Benz</td>\n",
       "    </tr>\n",
       "    <tr>\n",
       "      <th>81278</th>\n",
       "      <td>2.2</td>\n",
       "      <td>145.0</td>\n",
       "      <td>9000.0</td>\n",
       "      <td>142000</td>\n",
       "      <td>2024.0</td>\n",
       "      <td>18.0</td>\n",
       "      <td>Mercedes-Benz</td>\n",
       "    </tr>\n",
       "    <tr>\n",
       "      <th>81495</th>\n",
       "      <td>3.0</td>\n",
       "      <td>270.0</td>\n",
       "      <td>7800.0</td>\n",
       "      <td>243900</td>\n",
       "      <td>2024.0</td>\n",
       "      <td>21.0</td>\n",
       "      <td>Mercedes-Benz</td>\n",
       "    </tr>\n",
       "    <tr>\n",
       "      <th>81786</th>\n",
       "      <td>3.0</td>\n",
       "      <td>270.0</td>\n",
       "      <td>0.0</td>\n",
       "      <td>305990</td>\n",
       "      <td>2024.0</td>\n",
       "      <td>21.0</td>\n",
       "      <td>Mercedes-Benz</td>\n",
       "    </tr>\n",
       "    <tr>\n",
       "      <th>82420</th>\n",
       "      <td>2.2</td>\n",
       "      <td>120.0</td>\n",
       "      <td>0.0</td>\n",
       "      <td>159529</td>\n",
       "      <td>2024.0</td>\n",
       "      <td>18.0</td>\n",
       "      <td>Mercedes-Benz</td>\n",
       "    </tr>\n",
       "    <tr>\n",
       "      <th>82676</th>\n",
       "      <td>2.0</td>\n",
       "      <td>180.0</td>\n",
       "      <td>0.0</td>\n",
       "      <td>195952</td>\n",
       "      <td>2024.0</td>\n",
       "      <td>16.0</td>\n",
       "      <td>Mercedes-Benz</td>\n",
       "    </tr>\n",
       "    <tr>\n",
       "      <th>82677</th>\n",
       "      <td>2.0</td>\n",
       "      <td>160.0</td>\n",
       "      <td>820.0</td>\n",
       "      <td>150000</td>\n",
       "      <td>2024.0</td>\n",
       "      <td>16.0</td>\n",
       "      <td>Mercedes-Benz</td>\n",
       "    </tr>\n",
       "    <tr>\n",
       "      <th>83290</th>\n",
       "      <td>3.0</td>\n",
       "      <td>184.0</td>\n",
       "      <td>0.0</td>\n",
       "      <td>319000</td>\n",
       "      <td>2024.0</td>\n",
       "      <td>16.0</td>\n",
       "      <td>Mercedes-Benz</td>\n",
       "    </tr>\n",
       "  </tbody>\n",
       "</table>\n",
       "</div>"
      ],
      "text/plain": [
       "       displacement  kilowatts  mileage   price    year  rimSize  \\\n",
       "77482           2.0      110.0      0.0  101006  2024.0     18.0   \n",
       "80988           2.0      110.0      5.0  103990  2024.0     18.0   \n",
       "81278           2.2      145.0   9000.0  142000  2024.0     18.0   \n",
       "81495           3.0      270.0   7800.0  243900  2024.0     21.0   \n",
       "81786           3.0      270.0      0.0  305990  2024.0     21.0   \n",
       "82420           2.2      120.0      0.0  159529  2024.0     18.0   \n",
       "82676           2.0      180.0      0.0  195952  2024.0     16.0   \n",
       "82677           2.0      160.0    820.0  150000  2024.0     16.0   \n",
       "83290           3.0      184.0      0.0  319000  2024.0     16.0   \n",
       "\n",
       "        manufacturer  \n",
       "77482  Mercedes-Benz  \n",
       "80988  Mercedes-Benz  \n",
       "81278  Mercedes-Benz  \n",
       "81495  Mercedes-Benz  \n",
       "81786  Mercedes-Benz  \n",
       "82420  Mercedes-Benz  \n",
       "82676  Mercedes-Benz  \n",
       "82677  Mercedes-Benz  \n",
       "83290  Mercedes-Benz  "
      ]
     },
     "execution_count": 63,
     "metadata": {},
     "output_type": "execute_result"
    }
   ],
   "source": [
    "df_all_numeric = df_all_cleaned[['displacement', 'kilowatts', 'mileage', 'price', 'year', 'rimSize', 'manufacturer']]\n",
    "df_all_numeric[(df_all_numeric[\"manufacturer\"] == \"Mercedes-Benz\") & (df_all_numeric[\"year\"] == 2024)]\n",
    "\n",
    "\n"
   ]
  },
  {
   "cell_type": "code",
   "execution_count": 490,
   "metadata": {},
   "outputs": [
    {
     "data": {
      "text/html": [
       "<div>\n",
       "<style scoped>\n",
       "    .dataframe tbody tr th:only-of-type {\n",
       "        vertical-align: middle;\n",
       "    }\n",
       "\n",
       "    .dataframe tbody tr th {\n",
       "        vertical-align: top;\n",
       "    }\n",
       "\n",
       "    .dataframe thead th {\n",
       "        text-align: right;\n",
       "    }\n",
       "</style>\n",
       "<table border=\"1\" class=\"dataframe\">\n",
       "  <thead>\n",
       "    <tr style=\"text-align: right;\">\n",
       "      <th></th>\n",
       "      <th>displacement</th>\n",
       "      <th>kilowatts</th>\n",
       "      <th>mileage</th>\n",
       "      <th>price</th>\n",
       "      <th>year</th>\n",
       "      <th>rimSize</th>\n",
       "      <th>manufacturer</th>\n",
       "      <th>type</th>\n",
       "      <th>model</th>\n",
       "    </tr>\n",
       "  </thead>\n",
       "  <tbody>\n",
       "  </tbody>\n",
       "</table>\n",
       "</div>"
      ],
      "text/plain": [
       "Empty DataFrame\n",
       "Columns: [displacement, kilowatts, mileage, price, year, rimSize, manufacturer, type, model]\n",
       "Index: []"
      ]
     },
     "execution_count": 490,
     "metadata": {},
     "output_type": "execute_result"
    }
   ],
   "source": [
    "df_mercedes_benz[(df_mercedes_benz['price'] >= 430000)][['displacement', 'kilowatts', 'mileage', 'price', 'year', 'rimSize', 'manufacturer', 'type', 'model']]"
   ]
  },
  {
   "cell_type": "code",
   "execution_count": 489,
   "metadata": {},
   "outputs": [],
   "source": [
    "indeksi_drop = df_mercedes_benz.index[(df_mercedes_benz['price'] >= 430000)].to_list()\n",
    "df_mercedes_benz.drop(indeksi_drop, inplace=True)"
   ]
  },
  {
   "cell_type": "code",
   "execution_count": 491,
   "metadata": {},
   "outputs": [
    {
     "data": {
      "text/html": [
       "<div>\n",
       "<style scoped>\n",
       "    .dataframe tbody tr th:only-of-type {\n",
       "        vertical-align: middle;\n",
       "    }\n",
       "\n",
       "    .dataframe tbody tr th {\n",
       "        vertical-align: top;\n",
       "    }\n",
       "\n",
       "    .dataframe thead th {\n",
       "        text-align: right;\n",
       "    }\n",
       "</style>\n",
       "<table border=\"1\" class=\"dataframe\">\n",
       "  <thead>\n",
       "    <tr style=\"text-align: right;\">\n",
       "      <th></th>\n",
       "      <th>displacement</th>\n",
       "      <th>kilowatts</th>\n",
       "      <th>mileage</th>\n",
       "      <th>price</th>\n",
       "      <th>year</th>\n",
       "      <th>rimSize</th>\n",
       "    </tr>\n",
       "  </thead>\n",
       "  <tbody>\n",
       "    <tr>\n",
       "      <th>count</th>\n",
       "      <td>13346.00</td>\n",
       "      <td>13346.00</td>\n",
       "      <td>13346.00</td>\n",
       "      <td>13346.00</td>\n",
       "      <td>13346.00</td>\n",
       "      <td>13346.00</td>\n",
       "    </tr>\n",
       "    <tr>\n",
       "      <th>mean</th>\n",
       "      <td>2.34</td>\n",
       "      <td>123.91</td>\n",
       "      <td>242797.19</td>\n",
       "      <td>29868.86</td>\n",
       "      <td>2008.79</td>\n",
       "      <td>16.82</td>\n",
       "    </tr>\n",
       "    <tr>\n",
       "      <th>std</th>\n",
       "      <td>0.58</td>\n",
       "      <td>49.99</td>\n",
       "      <td>109988.30</td>\n",
       "      <td>35777.67</td>\n",
       "      <td>7.52</td>\n",
       "      <td>1.38</td>\n",
       "    </tr>\n",
       "    <tr>\n",
       "      <th>min</th>\n",
       "      <td>0.60</td>\n",
       "      <td>34.00</td>\n",
       "      <td>0.00</td>\n",
       "      <td>500.00</td>\n",
       "      <td>1951.00</td>\n",
       "      <td>13.00</td>\n",
       "    </tr>\n",
       "    <tr>\n",
       "      <th>25%</th>\n",
       "      <td>2.00</td>\n",
       "      <td>90.00</td>\n",
       "      <td>183762.25</td>\n",
       "      <td>8650.00</td>\n",
       "      <td>2004.00</td>\n",
       "      <td>16.00</td>\n",
       "    </tr>\n",
       "    <tr>\n",
       "      <th>50%</th>\n",
       "      <td>2.20</td>\n",
       "      <td>110.00</td>\n",
       "      <td>254000.00</td>\n",
       "      <td>18500.00</td>\n",
       "      <td>2010.00</td>\n",
       "      <td>16.00</td>\n",
       "    </tr>\n",
       "    <tr>\n",
       "      <th>75%</th>\n",
       "      <td>2.70</td>\n",
       "      <td>145.00</td>\n",
       "      <td>306000.00</td>\n",
       "      <td>36000.00</td>\n",
       "      <td>2014.00</td>\n",
       "      <td>17.00</td>\n",
       "    </tr>\n",
       "    <tr>\n",
       "      <th>max</th>\n",
       "      <td>7.30</td>\n",
       "      <td>999.00</td>\n",
       "      <td>1000000.00</td>\n",
       "      <td>429800.00</td>\n",
       "      <td>2024.00</td>\n",
       "      <td>23.00</td>\n",
       "    </tr>\n",
       "  </tbody>\n",
       "</table>\n",
       "</div>"
      ],
      "text/plain": [
       "       displacement  kilowatts     mileage      price      year   rimSize\n",
       "count      13346.00   13346.00    13346.00   13346.00  13346.00  13346.00\n",
       "mean           2.34     123.91   242797.19   29868.86   2008.79     16.82\n",
       "std            0.58      49.99   109988.30   35777.67      7.52      1.38\n",
       "min            0.60      34.00        0.00     500.00   1951.00     13.00\n",
       "25%            2.00      90.00   183762.25    8650.00   2004.00     16.00\n",
       "50%            2.20     110.00   254000.00   18500.00   2010.00     16.00\n",
       "75%            2.70     145.00   306000.00   36000.00   2014.00     17.00\n",
       "max            7.30     999.00  1000000.00  429800.00   2024.00     23.00"
      ]
     },
     "execution_count": 491,
     "metadata": {},
     "output_type": "execute_result"
    }
   ],
   "source": [
    "df_mercedes_benz.describe().round(2)"
   ]
  },
  {
   "cell_type": "code",
   "execution_count": 505,
   "metadata": {},
   "outputs": [
    {
     "data": {
      "text/plain": [
       "(13346, 22)"
      ]
     },
     "execution_count": 505,
     "metadata": {},
     "output_type": "execute_result"
    }
   ],
   "source": [
    "df_mercedes_benz.shape"
   ]
  },
  {
   "cell_type": "code",
   "execution_count": 494,
   "metadata": {},
   "outputs": [
    {
     "data": {
      "text/plain": [
       "197824    429800\n",
       "197836    425000\n",
       "197835    419000\n",
       "197830    415000\n",
       "197834    385000\n",
       "219457    339800\n",
       "197832    330000\n",
       "219458    319000\n",
       "197833    309900\n",
       "197826    305990\n",
       "Name: price, dtype: int64"
      ]
     },
     "execution_count": 494,
     "metadata": {},
     "output_type": "execute_result"
    }
   ],
   "source": [
    "df_mercedes_benz.nlargest(10, 'price')[\"price\"]"
   ]
  },
  {
   "cell_type": "code",
   "execution_count": 500,
   "metadata": {},
   "outputs": [],
   "source": [
    "combined_df = pd.concat([df_volkswagen, df_audi, df_mercedes_benz], ignore_index=True)"
   ]
  },
  {
   "cell_type": "code",
   "execution_count": 501,
   "metadata": {},
   "outputs": [
    {
     "data": {
      "text/plain": [
       "(84403, 22)"
      ]
     },
     "execution_count": 501,
     "metadata": {},
     "output_type": "execute_result"
    }
   ],
   "source": [
    "combined_df.shape"
   ]
  },
  {
   "cell_type": "code",
   "execution_count": 502,
   "metadata": {},
   "outputs": [],
   "source": [
    "combined_df.to_csv(\"all_cleaned.csv\", sep=',', index=False, encoding='utf-8')"
   ]
  },
  {
   "cell_type": "code",
   "execution_count": 503,
   "metadata": {},
   "outputs": [],
   "source": [
    "combined_df_numeric = combined_df[['displacement', 'kilowatts', 'mileage', 'price', 'year', 'rimSize', 'manufacturer']]"
   ]
  },
  {
   "cell_type": "code",
   "execution_count": 504,
   "metadata": {},
   "outputs": [],
   "source": [
    "combined_df_numeric.to_csv(\"all_cleaned_numeric.csv\", sep=',', index=False, encoding='utf-8')"
   ]
  },
  {
   "cell_type": "code",
   "execution_count": 20,
   "metadata": {},
   "outputs": [],
   "source": [
    "df_skoda.to_csv(\"skoda_notcleaned.csv\", sep=',', index=False, encoding='utf-8')"
   ]
  },
  {
   "cell_type": "code",
   "execution_count": 23,
   "metadata": {},
   "outputs": [],
   "source": [
    "df_skoda_numeric = df_skoda[['displacement', 'kilowatts', 'mileage', 'price', 'year', 'rimSize']]"
   ]
  },
  {
   "cell_type": "code",
   "execution_count": 27,
   "metadata": {},
   "outputs": [],
   "source": [
    "df_skoda_numeric.to_csv(\"skoda_notcleaned_numeric.csv\", sep=',', index=False, encoding='utf-8')"
   ]
  }
 ],
 "metadata": {
  "kernelspec": {
   "display_name": "Python 3",
   "language": "python",
   "name": "python3"
  },
  "language_info": {
   "codemirror_mode": {
    "name": "ipython",
    "version": 3
   },
   "file_extension": ".py",
   "mimetype": "text/x-python",
   "name": "python",
   "nbconvert_exporter": "python",
   "pygments_lexer": "ipython3",
   "version": "3.12.5"
  }
 },
 "nbformat": 4,
 "nbformat_minor": 2
}
