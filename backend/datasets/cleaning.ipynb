{
 "cells": [
  {
   "cell_type": "code",
   "execution_count": 1,
   "metadata": {},
   "outputs": [],
   "source": [
    "import pandas as pd\n",
    "import numpy as np\n",
    "import seaborn as sns\n",
    "import matplotlib.pyplot as plt\n"
   ]
  },
  {
   "cell_type": "code",
   "execution_count": 14,
   "metadata": {},
   "outputs": [],
   "source": [
    "df = pd.read_csv('volkswagen_cleaned.csv')\n",
    "df1 = pd.read_csv('audi_cleaned.csv')\n",
    "df2 = pd.read_csv('skoda_cleaned.csv')\n"
   ]
  },
  {
   "cell_type": "code",
   "execution_count": 4,
   "metadata": {},
   "outputs": [
    {
     "name": "stdout",
     "output_type": "stream",
     "text": [
      "<class 'pandas.core.frame.DataFrame'>\n",
      "RangeIndex: 50565 entries, 0 to 50564\n",
      "Data columns (total 21 columns):\n",
      " #   Column            Non-Null Count  Dtype  \n",
      "---  ------            --------------  -----  \n",
      " 0   displacement      50565 non-null  float64\n",
      " 1   doors             50565 non-null  object \n",
      " 2   fuel              50565 non-null  object \n",
      " 3   kilowatts         50565 non-null  float64\n",
      " 4   location          50565 non-null  object \n",
      " 5   manufacturer      50565 non-null  object \n",
      " 6   mileage           50564 non-null  float64\n",
      " 7   model             50565 non-null  object \n",
      " 8   price             50565 non-null  int64  \n",
      " 9   title             50565 non-null  object \n",
      " 10  year              50565 non-null  int64  \n",
      " 11  color             50565 non-null  object \n",
      " 12  cruiseControl     50565 non-null  bool   \n",
      " 13  drivetrain        50565 non-null  object \n",
      " 14  emissionStandard  50565 non-null  object \n",
      " 15  rimSize           50565 non-null  int64  \n",
      " 16  transmission      50565 non-null  object \n",
      " 17  type              50565 non-null  object \n",
      " 18  airCondition      50565 non-null  bool   \n",
      " 19  navigation        50565 non-null  bool   \n",
      " 20  registration      50565 non-null  bool   \n",
      "dtypes: bool(4), float64(3), int64(3), object(11)\n",
      "memory usage: 6.8+ MB\n"
     ]
    }
   ],
   "source": [
    "df.info()\n"
   ]
  },
  {
   "cell_type": "code",
   "execution_count": 21,
   "metadata": {},
   "outputs": [
    {
     "data": {
      "text/plain": [
       "Index(['displacement', 'doors', 'fuel', 'kilowatts', 'location',\n",
       "       'manufacturer', 'mileage', 'model', 'price', 'title', 'year', 'color',\n",
       "       'cruiseControl', 'drivetrain', 'emissionStandard', 'rimSize',\n",
       "       'transmission', 'type', 'airCondition', 'navigation', 'registration'],\n",
       "      dtype='object')"
      ]
     },
     "execution_count": 21,
     "metadata": {},
     "output_type": "execute_result"
    }
   ],
   "source": [
    "df.columns\n"
   ]
  },
  {
   "cell_type": "code",
   "execution_count": 12,
   "metadata": {},
   "outputs": [
    {
     "data": {
      "text/plain": [
       "array(['Fabia', 'Octavia', 'Felicia', 'Praktik', 'Superb', 'Yeti',\n",
       "       'Octavia Scout', 'Scala', 'Karoq', 'Kodiaq', 'Octavia Tour',\n",
       "       'Octavia RS', 'Roomster', 'Rapid', 'Fabia RS', 'Kamiq', 'Citigo',\n",
       "       'Spaceback', '120', 'Enyaq', '130', '105', 'Favorit', 'Drugi',\n",
       "       'Enyaq Coupé'], dtype=object)"
      ]
     },
     "execution_count": 12,
     "metadata": {},
     "output_type": "execute_result"
    }
   ],
   "source": [
    "df['model'].unique()"
   ]
  },
  {
   "cell_type": "code",
   "execution_count": 12,
   "metadata": {},
   "outputs": [],
   "source": [
    "df.loc[(df['year'] < 2015) & (df['mileage'] < 1000), 'mileage'] = 250000\n"
   ]
  },
  {
   "cell_type": "code",
   "execution_count": 13,
   "metadata": {},
   "outputs": [],
   "source": [
    "df.to_csv('volkswagen_cleaned.csv', index=False)"
   ]
  },
  {
   "cell_type": "code",
   "execution_count": 15,
   "metadata": {},
   "outputs": [],
   "source": [
    "df3 = pd.concat([df, df1, df2])\n",
    "df3.to_csv('all_cleaned.csv', index=False)"
   ]
  }
 ],
 "metadata": {
  "kernelspec": {
   "display_name": "Python 3",
   "language": "python",
   "name": "python3"
  },
  "language_info": {
   "codemirror_mode": {
    "name": "ipython",
    "version": 3
   },
   "file_extension": ".py",
   "mimetype": "text/x-python",
   "name": "python",
   "nbconvert_exporter": "python",
   "pygments_lexer": "ipython3",
   "version": "3.12.2"
  }
 },
 "nbformat": 4,
 "nbformat_minor": 2
}
